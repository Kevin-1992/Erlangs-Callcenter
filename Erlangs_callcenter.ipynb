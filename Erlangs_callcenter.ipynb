{
  "nbformat": 4,
  "nbformat_minor": 0,
  "metadata": {
    "colab": {
      "name": "Erlangs_callcenter.ipynb",
      "provenance": [],
      "authorship_tag": "ABX9TyPhpMamAk0QtdcvQhujK9Es",
      "include_colab_link": true
    },
    "kernelspec": {
      "name": "python3",
      "display_name": "Python 3"
    }
  },
  "cells": [
    {
      "cell_type": "markdown",
      "metadata": {
        "id": "view-in-github",
        "colab_type": "text"
      },
      "source": [
        "<a href=\"https://colab.research.google.com/github/Kevin-1992/Erlangs-Callcenter/blob/main/Erlangs_callcenter.ipynb\" target=\"_parent\"><img src=\"https://colab.research.google.com/assets/colab-badge.svg\" alt=\"Open In Colab\"/></a>"
      ]
    },
    {
      "cell_type": "code",
      "metadata": {
        "id": "f1f0psI2rkiZ"
      },
      "source": [
        "import pandas as pd\r\n",
        "import numpy as np\r\n",
        "import seaborn as sns\r\n",
        "import matplotlib.pyplot as plt\r\n",
        "import statistics\r\n",
        "import math"
      ],
      "execution_count": null,
      "outputs": []
    },
    {
      "cell_type": "code",
      "metadata": {
        "id": "pWT2PcnBsA0d"
      },
      "source": [
        "Number_of_Calls = 200\r\n",
        "Interval_Minutes = 0\r\n",
        "Average_Handel_Time = 3\r\n",
        "Required_Service_Level = 0.85\r\n",
        "Target_Answertime_seconds = 20\r\n",
        "Maximum_Occupancy = 0\r\n",
        "NC = Number_of_Calls\r\n",
        "IM = Interval_Minutes\r\n",
        "AHT = Average_Handel_Time\r\n",
        "RSL = Required_Service_Level\r\n",
        "TAT = Target_Answertime_seconds\r\n",
        "MO = Maximum_Occupancy"
      ],
      "execution_count": null,
      "outputs": []
    },
    {
      "cell_type": "markdown",
      "metadata": {
        "id": "d2_gVrhjwDJS"
      },
      "source": [
        "### Traffic intensity (A)"
      ]
    },
    {
      "cell_type": "code",
      "metadata": {
        "id": "jG44xeLgv-Y2"
      },
      "source": [
        "A=(NC*AHT)/60"
      ],
      "execution_count": null,
      "outputs": []
    },
    {
      "cell_type": "code",
      "metadata": {
        "colab": {
          "base_uri": "https://localhost:8080/"
        },
        "id": "stxT_8wCuWc3",
        "outputId": "224b7e9a-71f4-422f-adf8-b1b0b8448d51"
      },
      "source": [
        "A"
      ],
      "execution_count": null,
      "outputs": [
        {
          "output_type": "execute_result",
          "data": {
            "text/plain": [
              "10.0"
            ]
          },
          "metadata": {
            "tags": []
          },
          "execution_count": 43
        }
      ]
    },
    {
      "cell_type": "markdown",
      "metadata": {
        "id": "7t4DdHizxgSN"
      },
      "source": [
        "### Estimate the Raw Number of Agents Required (N)"
      ]
    },
    {
      "cell_type": "code",
      "metadata": {
        "id": "slcesClHuri3"
      },
      "source": [
        "N = A + 4 "
      ],
      "execution_count": null,
      "outputs": []
    },
    {
      "cell_type": "code",
      "metadata": {
        "colab": {
          "base_uri": "https://localhost:8080/"
        },
        "id": "e1dfVvdWycax",
        "outputId": "1d8b6d9b-42f4-41d7-aac7-4ec051e552b4"
      },
      "source": [
        "N"
      ],
      "execution_count": null,
      "outputs": [
        {
          "output_type": "execute_result",
          "data": {
            "text/plain": [
              "14.0"
            ]
          },
          "metadata": {
            "tags": []
          },
          "execution_count": 45
        }
      ]
    },
    {
      "cell_type": "code",
      "metadata": {
        "colab": {
          "base_uri": "https://localhost:8080/"
        },
        "id": "Qx7AKj1MydYw",
        "outputId": "577c2866-4465-4a9f-f06d-440ab8dcf28a"
      },
      "source": [
        "math.factorial(N)"
      ],
      "execution_count": null,
      "outputs": [
        {
          "output_type": "execute_result",
          "data": {
            "text/plain": [
              "87178291200"
            ]
          },
          "metadata": {
            "tags": []
          },
          "execution_count": 46
        }
      ]
    },
    {
      "cell_type": "markdown",
      "metadata": {
        "id": "1SiqIfosNinP"
      },
      "source": [
        "### Finding X"
      ]
    },
    {
      "cell_type": "code",
      "metadata": {
        "id": "v7WJV_KEN6tE"
      },
      "source": [
        "X = (pow(A,N)) / (math.factorial(N)) * (N / (N-A))"
      ],
      "execution_count": null,
      "outputs": []
    },
    {
      "cell_type": "code",
      "metadata": {
        "colab": {
          "base_uri": "https://localhost:8080/"
        },
        "id": "dXx6ZUkYN6er",
        "outputId": "42696f04-55f0-4d5a-ff59-de4cd27309b5"
      },
      "source": [
        "X"
      ],
      "execution_count": null,
      "outputs": [
        {
          "output_type": "execute_result",
          "data": {
            "text/plain": [
              "4014.760959205403"
            ]
          },
          "metadata": {
            "tags": []
          },
          "execution_count": 48
        }
      ]
    },
    {
      "cell_type": "markdown",
      "metadata": {
        "id": "Dg37mnt-SK45"
      },
      "source": [
        "###Finding Y"
      ]
    },
    {
      "cell_type": "code",
      "metadata": {
        "id": "GyYLjIQqSWi-"
      },
      "source": [
        "i=0"
      ],
      "execution_count": null,
      "outputs": []
    },
    {
      "cell_type": "code",
      "metadata": {
        "colab": {
          "base_uri": "https://localhost:8080/"
        },
        "id": "Zh8wAlmb5MRG",
        "outputId": "ba77b79a-eec4-40b3-fcae-4ef5d6e27dc2"
      },
      "source": [
        "while i < N:\r\n",
        "  print(i)\r\n",
        "  i=i+1\r\n"
      ],
      "execution_count": null,
      "outputs": [
        {
          "output_type": "stream",
          "text": [
            "0\n",
            "1\n",
            "2\n",
            "3\n",
            "4\n",
            "5\n",
            "6\n",
            "7\n",
            "8\n",
            "9\n",
            "10\n",
            "11\n",
            "12\n",
            "13\n"
          ],
          "name": "stdout"
        }
      ]
    },
    {
      "cell_type": "code",
      "metadata": {
        "colab": {
          "base_uri": "https://localhost:8080/"
        },
        "id": "MEJ_ms105T6c",
        "outputId": "7c740e91-3189-42b9-d1d6-fa09002b086b"
      },
      "source": [
        "i"
      ],
      "execution_count": null,
      "outputs": [
        {
          "output_type": "execute_result",
          "data": {
            "text/plain": [
              "14"
            ]
          },
          "metadata": {
            "tags": []
          },
          "execution_count": 51
        }
      ]
    },
    {
      "cell_type": "code",
      "metadata": {
        "colab": {
          "base_uri": "https://localhost:8080/"
        },
        "id": "mhf3QKjSAjx0",
        "outputId": "01568e83-735d-4cb8-eec9-8912a19c2e6a"
      },
      "source": [
        "ilist= list(range(i))\r\n",
        "print(ilist)"
      ],
      "execution_count": null,
      "outputs": [
        {
          "output_type": "stream",
          "text": [
            "[0, 1, 2, 3, 4, 5, 6, 7, 8, 9, 10, 11, 12, 13]\n"
          ],
          "name": "stdout"
        }
      ]
    },
    {
      "cell_type": "code",
      "metadata": {
        "id": "9AZvpVuSAybh"
      },
      "source": [
        "Ai=[]"
      ],
      "execution_count": null,
      "outputs": []
    },
    {
      "cell_type": "code",
      "metadata": {
        "id": "eJH8C8VNFAKT"
      },
      "source": [
        "for n in ilist:\r\n",
        "    Ai.append(A**n)\r\n"
      ],
      "execution_count": null,
      "outputs": []
    },
    {
      "cell_type": "code",
      "metadata": {
        "colab": {
          "base_uri": "https://localhost:8080/"
        },
        "id": "E0CmVdDMHiu9",
        "outputId": "a92b8cad-08b2-4b85-ba15-3ead1be71e4f"
      },
      "source": [
        "Ai"
      ],
      "execution_count": null,
      "outputs": [
        {
          "output_type": "execute_result",
          "data": {
            "text/plain": [
              "[1.0,\n",
              " 10.0,\n",
              " 100.0,\n",
              " 1000.0,\n",
              " 10000.0,\n",
              " 100000.0,\n",
              " 1000000.0,\n",
              " 10000000.0,\n",
              " 100000000.0,\n",
              " 1000000000.0,\n",
              " 10000000000.0,\n",
              " 100000000000.0,\n",
              " 1000000000000.0,\n",
              " 10000000000000.0]"
            ]
          },
          "metadata": {
            "tags": []
          },
          "execution_count": 55
        }
      ]
    },
    {
      "cell_type": "code",
      "metadata": {
        "id": "atE2D4nyHkeV"
      },
      "source": [
        "ifact=[math.factorial(n) for n in range(i)]"
      ],
      "execution_count": null,
      "outputs": []
    },
    {
      "cell_type": "code",
      "metadata": {
        "colab": {
          "base_uri": "https://localhost:8080/"
        },
        "id": "xpXLEkMAIVTd",
        "outputId": "fee059af-3404-408e-b35b-e2f9351ef700"
      },
      "source": [
        "ifact"
      ],
      "execution_count": null,
      "outputs": [
        {
          "output_type": "execute_result",
          "data": {
            "text/plain": [
              "[1,\n",
              " 1,\n",
              " 2,\n",
              " 6,\n",
              " 24,\n",
              " 120,\n",
              " 720,\n",
              " 5040,\n",
              " 40320,\n",
              " 362880,\n",
              " 3628800,\n",
              " 39916800,\n",
              " 479001600,\n",
              " 6227020800]"
            ]
          },
          "metadata": {
            "tags": []
          },
          "execution_count": 57
        }
      ]
    },
    {
      "cell_type": "code",
      "metadata": {
        "id": "-ESzO0fDIiu8"
      },
      "source": [
        "from operator import truediv\r\n",
        "aidividedi = list(map(truediv, Ai,ifact))"
      ],
      "execution_count": null,
      "outputs": []
    },
    {
      "cell_type": "code",
      "metadata": {
        "colab": {
          "base_uri": "https://localhost:8080/"
        },
        "id": "HZcQ_UU1J4DO",
        "outputId": "70bab753-6f9d-4c2c-b67a-f2cc057478d2"
      },
      "source": [
        "aidividedi"
      ],
      "execution_count": null,
      "outputs": [
        {
          "output_type": "execute_result",
          "data": {
            "text/plain": [
              "[1.0,\n",
              " 10.0,\n",
              " 50.0,\n",
              " 166.66666666666666,\n",
              " 416.6666666666667,\n",
              " 833.3333333333334,\n",
              " 1388.888888888889,\n",
              " 1984.126984126984,\n",
              " 2480.15873015873,\n",
              " 2755.731922398589,\n",
              " 2755.731922398589,\n",
              " 2505.210838544172,\n",
              " 2087.67569878681,\n",
              " 1605.9043836821616]"
            ]
          },
          "metadata": {
            "tags": []
          },
          "execution_count": 59
        }
      ]
    },
    {
      "cell_type": "code",
      "metadata": {
        "id": "bqqsMmtOLa4v"
      },
      "source": [
        "Y = sum(aidividedi)"
      ],
      "execution_count": null,
      "outputs": []
    },
    {
      "cell_type": "code",
      "metadata": {
        "colab": {
          "base_uri": "https://localhost:8080/"
        },
        "id": "U0-UybggL-uv",
        "outputId": "f2fed51a-778b-4972-9b3a-74fafacbda36"
      },
      "source": [
        "Y"
      ],
      "execution_count": null,
      "outputs": [
        {
          "output_type": "execute_result",
          "data": {
            "text/plain": [
              "19041.09603565159"
            ]
          },
          "metadata": {
            "tags": []
          },
          "execution_count": 61
        }
      ]
    },
    {
      "cell_type": "code",
      "metadata": {
        "id": "awBvPEc1MAm3"
      },
      "source": [
        "Pw = X/(Y+X)"
      ],
      "execution_count": null,
      "outputs": []
    },
    {
      "cell_type": "code",
      "metadata": {
        "colab": {
          "base_uri": "https://localhost:8080/"
        },
        "id": "0L7Eq4yxT4Ej",
        "outputId": "9fcb27d6-cac6-46ce-b11b-8e9c12365223"
      },
      "source": [
        "Pw"
      ],
      "execution_count": null,
      "outputs": [
        {
          "output_type": "execute_result",
          "data": {
            "text/plain": [
              "0.17413193359504983"
            ]
          },
          "metadata": {
            "tags": []
          },
          "execution_count": 63
        }
      ]
    },
    {
      "cell_type": "markdown",
      "metadata": {
        "id": "pOK31NYUXbPC"
      },
      "source": [
        "### Calculate service Level"
      ]
    },
    {
      "cell_type": "code",
      "metadata": {
        "id": "NIXtFGblT41r"
      },
      "source": [
        "preuler=-(N-A)*(TAT/(AHT*60))"
      ],
      "execution_count": null,
      "outputs": []
    },
    {
      "cell_type": "code",
      "metadata": {
        "colab": {
          "base_uri": "https://localhost:8080/"
        },
        "id": "c3y2PIVqW5Ks",
        "outputId": "cfa9659b-c04c-4026-94d4-4d78121b8965"
      },
      "source": [
        "preuler"
      ],
      "execution_count": null,
      "outputs": [
        {
          "output_type": "execute_result",
          "data": {
            "text/plain": [
              "-0.4444444444444444"
            ]
          },
          "metadata": {
            "tags": []
          },
          "execution_count": 65
        }
      ]
    },
    {
      "cell_type": "code",
      "metadata": {
        "id": "yem7kTBJXPSc"
      },
      "source": [
        "SL = (1-(Pw*(math.e**preuler)))"
      ],
      "execution_count": null,
      "outputs": []
    },
    {
      "cell_type": "code",
      "metadata": {
        "colab": {
          "base_uri": "https://localhost:8080/"
        },
        "id": "lgDZrVGBagx3",
        "outputId": "9fcade59-50f7-4651-d1e1-8eef0f4a21df"
      },
      "source": [
        "SL"
      ],
      "execution_count": null,
      "outputs": [
        {
          "output_type": "execute_result",
          "data": {
            "text/plain": [
              "0.8883500191794669"
            ]
          },
          "metadata": {
            "tags": []
          },
          "execution_count": 67
        }
      ]
    },
    {
      "cell_type": "code",
      "metadata": {
        "colab": {
          "base_uri": "https://localhost:8080/"
        },
        "id": "MUtFJbayajyu",
        "outputId": "6ef56d9d-0c85-405f-8fe9-67c35e6a24a1"
      },
      "source": [
        "if SL < RSL:\r\n",
        "  print(\"SL not reached, Increase number of agents\")\r\n",
        "else:\r\n",
        "  print(\"SL should be reached\")\r\n"
      ],
      "execution_count": null,
      "outputs": [
        {
          "output_type": "stream",
          "text": [
            "SL should be reached\n"
          ],
          "name": "stdout"
        }
      ]
    },
    {
      "cell_type": "markdown",
      "metadata": {
        "id": "zUTaV5GvcW7Q"
      },
      "source": [
        "### Average Speed Of Answer (ASA)"
      ]
    },
    {
      "cell_type": "code",
      "metadata": {
        "id": "X5htYIH9bnv_"
      },
      "source": [
        "ASA = (Pw*(AHT*60))/((N-A))"
      ],
      "execution_count": null,
      "outputs": []
    },
    {
      "cell_type": "code",
      "metadata": {
        "colab": {
          "base_uri": "https://localhost:8080/"
        },
        "id": "gW05qciwc833",
        "outputId": "72bbf0b5-69b3-449f-d8ea-976e841e80f6"
      },
      "source": [
        "ASA"
      ],
      "execution_count": null,
      "outputs": [
        {
          "output_type": "execute_result",
          "data": {
            "text/plain": [
              "7.835937011777243"
            ]
          },
          "metadata": {
            "tags": []
          },
          "execution_count": 70
        }
      ]
    },
    {
      "cell_type": "markdown",
      "metadata": {
        "id": "Eun5lQZeisuP"
      },
      "source": [
        "### Percentage of calls answerd immidiately"
      ]
    },
    {
      "cell_type": "code",
      "metadata": {
        "id": "Bk0WZycHg2ze"
      },
      "source": [
        "Immiate_Answer = (1-Pw)"
      ],
      "execution_count": null,
      "outputs": []
    },
    {
      "cell_type": "code",
      "metadata": {
        "colab": {
          "base_uri": "https://localhost:8080/"
        },
        "id": "IO0ahSb3dASt",
        "outputId": "3fb36b2d-07ff-45b1-b31d-2d420fb4bad2"
      },
      "source": [
        "Ia = Immiate_Answer\r\n",
        "Ia"
      ],
      "execution_count": null,
      "outputs": [
        {
          "output_type": "execute_result",
          "data": {
            "text/plain": [
              "0.8258680664049501"
            ]
          },
          "metadata": {
            "tags": []
          },
          "execution_count": 72
        }
      ]
    },
    {
      "cell_type": "markdown",
      "metadata": {
        "id": "vHXG47KTjUak"
      },
      "source": [
        "### Occupancy"
      ]
    },
    {
      "cell_type": "code",
      "metadata": {
        "colab": {
          "base_uri": "https://localhost:8080/"
        },
        "id": "ONMqhjHbjTXH",
        "outputId": "f8a38188-a2bc-4b9e-c64a-633b11d8dad0"
      },
      "source": [
        "Occ= (A/N)*100\r\n",
        "Occ "
      ],
      "execution_count": null,
      "outputs": [
        {
          "output_type": "execute_result",
          "data": {
            "text/plain": [
              "71.42857142857143"
            ]
          },
          "metadata": {
            "tags": []
          },
          "execution_count": 73
        }
      ]
    },
    {
      "cell_type": "markdown",
      "metadata": {
        "id": "72uWpSa7lfSF"
      },
      "source": [
        "### Shrinkage"
      ]
    },
    {
      "cell_type": "code",
      "metadata": {
        "id": "V32leLY9jOJz"
      },
      "source": [
        "#External shrinkage\r\n",
        "Public_holidays = 8\r\n",
        "Sickness = 8\r\n",
        "Absenteeism_Lateness = 1.4\r\n",
        "Vacations = 24\r\n",
        "\r\n",
        "NW1 = Public_holidays\r\n",
        "NW2 = Sickness\r\n",
        "NW3 = Absenteeism_Lateness\r\n",
        "NW4 = Vacations\r\n",
        "#Internal Shrinkage\r\n",
        "Training = 5\r\n",
        "Coaching = 6.9\r\n",
        "Qualitative_sessions = 2.8\r\n",
        "Team_Meetings = 5.5\r\n",
        "One_to_Ones = 1.4\r\n",
        "Paid_breaks = 6.9\r\n",
        "Toilet_Breaks = 3.5\r\n",
        "System_Problems = 1.4 \r\n",
        "Aux_etc = 9.7\r\n",
        "\r\n",
        "Aux1 = Training\r\n",
        "Aux2 = Coaching\r\n",
        "Aux3 = Qualitative_sessions\r\n",
        "Aux4 = Team_Meetings\r\n",
        "Aux5 = One_to_Ones\r\n",
        "Aux6 = Paid_breaks\r\n",
        "Aux7 = Toilet_Breaks\r\n",
        "Aux8 = System_Problems \r\n",
        "Aux9 = Aux_etc "
      ],
      "execution_count": null,
      "outputs": []
    },
    {
      "cell_type": "code",
      "metadata": {
        "id": "cyBVvv48tRsk"
      },
      "source": [
        "ES = NW1+NW2+NW3+NW4\r\n",
        "IS = Aux1 + Aux2 + Aux3 + Aux4 + Aux5 + Aux6 + Aux7 + Aux8 + Aux9\r\n",
        "Work_days_Per_year =260"
      ],
      "execution_count": null,
      "outputs": []
    },
    {
      "cell_type": "code",
      "metadata": {
        "id": "bmikKBkRuXcq"
      },
      "source": [
        "Shrinkage_days = ES + IS"
      ],
      "execution_count": null,
      "outputs": []
    },
    {
      "cell_type": "code",
      "metadata": {
        "id": "rptO4euiz598"
      },
      "source": [
        "Shrinkage = Shrinkage_days/Work_days_Per_year"
      ],
      "execution_count": null,
      "outputs": []
    },
    {
      "cell_type": "code",
      "metadata": {
        "colab": {
          "base_uri": "https://localhost:8080/"
        },
        "id": "uB46iVB8z8fs",
        "outputId": "e74fad2f-5291-4865-c0ae-354d34b0cfee"
      },
      "source": [
        "Shrinkage"
      ],
      "execution_count": null,
      "outputs": [
        {
          "output_type": "execute_result",
          "data": {
            "text/plain": [
              "0.325"
            ]
          },
          "metadata": {
            "tags": []
          },
          "execution_count": 116
        }
      ]
    },
    {
      "cell_type": "markdown",
      "metadata": {
        "id": "um9ueeyw7vER"
      },
      "source": [
        "### Adding Shrinkage to the equation"
      ]
    },
    {
      "cell_type": "code",
      "metadata": {
        "colab": {
          "base_uri": "https://localhost:8080/"
        },
        "id": "FOHDYA5c7cEa",
        "outputId": "ec4176b9-bd21-4cf0-d71a-4aaf0c11d11f"
      },
      "source": [
        "Agents_required = N/(1-Shrinkage)\r\n",
        "Agents_required"
      ],
      "execution_count": null,
      "outputs": [
        {
          "output_type": "execute_result",
          "data": {
            "text/plain": [
              "20.74074074074074"
            ]
          },
          "metadata": {
            "tags": []
          },
          "execution_count": 120
        }
      ]
    },
    {
      "cell_type": "markdown",
      "metadata": {
        "id": "qSHyt04J82y-"
      },
      "source": [
        "### Summary"
      ]
    },
    {
      "cell_type": "code",
      "metadata": {
        "id": "gO8asCzO8Vh5"
      },
      "source": [
        ""
      ],
      "execution_count": null,
      "outputs": []
    }
  ]
}